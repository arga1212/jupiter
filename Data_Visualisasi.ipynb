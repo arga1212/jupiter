{
  "cells": [
    {
      "cell_type": "markdown",
      "metadata": {
        "id": "TfGh5LCy5-N-"
      },
      "source": [
        "## Kerjakan Praktikum Visualisasi Histogram, Frequency, Box Plot Chart Pada **Modul**"
      ]
    },
    {
      "cell_type": "code",
      "execution_count": 1,
      "metadata": {
        "id": "T7jjI7pa6EVB"
      },
      "outputs": [
        {
          "name": "stderr",
          "output_type": "stream",
          "text": [
            "/var/folders/7q/1yv5h_fj6pl8zsxt6grmmr4c0000gn/T/ipykernel_99722/1102403421.py:8: UserWarning: No artists with labels found to put in legend.  Note that artists whose label start with an underscore are ignored when legend() is called with no argument.\n",
            "  plt.legend()\n"
          ]
        },
        {
          "data": {
            "image/png": "[encoded data removed]",
            "text/plain": [
              "<Figure size 640x480 with 1 Axes>"
            ]
          },
          "metadata": {},
          "output_type": "display_data"
        }
      ],
      "source": [
        "import matplotlib.pyplot as plt\n",
        "age = [22, 25, 30, 35, 40, 45, 50, 55, 60, 65, 70, 75, 80]\n",
        "years=[1, 3, 4, 5, 7, 8, 9, 10, 12, 15, 18, 20, 22]\n",
        "plt.hist(age, bins=years, color='blue', histtype='bar', rwidth=.8)\n",
        "plt.xlabel('Emp Age')\n",
        "plt.ylabel('Number of Emp')\n",
        "plt.title('KVS')\n",
        "plt.legend()\n",
        "plt.show()"
      ]
    },
    {
      "cell_type": "code",
      "execution_count": null,
      "metadata": {
        "id": "Y4EJygai6FXQ"
      },
      "outputs": [],
      "source": []
    },
    {
      "cell_type": "code",
      "execution_count": null,
      "metadata": {
        "id": "YTx0uHqJ6Fm1"
      },
      "outputs": [],
      "source": []
    },
    {
      "cell_type": "markdown",
      "metadata": {
        "id": "OIStJano6HZ5"
      },
      "source": [
        "# **Setelah melakukan praktikum pada modul kerjakan study kasus berikut :**"
      ]
    },
    {
      "cell_type": "markdown",
      "metadata": {
        "id": "c8Ibx6GMMoVr"
      },
      "source": [
        "\n",
        "## Mengkoneksikan Colab dengan Gdrive"
      ]
    },
    {
      "cell_type": "code",
      "execution_count": null,
      "metadata": {
        "colab": {
          "base_uri": "https://localhost:8080/"
        },
        "id": "rwY06Gq1C1iG",
        "outputId": "51c025ec-dfd5-4fd5-dbca-7f259e724f41"
      },
      "outputs": [
        {
          "name": "stdout",
          "output_type": "stream",
          "text": [
            "Drive already mounted at /content/drive; to attempt to forcibly remount, call drive.mount(\"/content/drive\", force_remount=True).\n"
          ]
        }
      ],
      "source": [
        "from google.colab import drive\n",
        "drive.mount('/content/drive')"
      ]
    },
    {
      "cell_type": "markdown",
      "metadata": {
        "id": "OfnpFVA7MvIi"
      },
      "source": [
        "## Import Packages\n",
        "\n"
      ]
    },
    {
      "cell_type": "code",
      "execution_count": null,
      "metadata": {
        "id": "w0zjRDdhMuY7"
      },
      "outputs": [],
      "source": [
        "# Import Packages\n",
        "import pandas as pd\n",
        "import numpy as np\n",
        "import matplotlib.pyplot as plt\n",
        "import seaborn as sns"
      ]
    },
    {
      "cell_type": "markdown",
      "metadata": {
        "id": "2XCWRy0aM6-y"
      },
      "source": [
        "## Setting Path & Check Directory"
      ]
    },
    {
      "cell_type": "code",
      "execution_count": null,
      "metadata": {
        "id": "d7Of0Q21M6Pt"
      },
      "outputs": [],
      "source": [
        "# Mendefinisikan data path\n",
        "path_data = '/content/drive/MyDrive/Colab Notebooks/dataset/'"
      ]
    },
    {
      "cell_type": "markdown",
      "metadata": {
        "id": "JB4_wKVfNDcw"
      },
      "source": [
        "## Import Data"
      ]
    },
    {
      "cell_type": "markdown",
      "metadata": {
        "id": "7UmgbGfgNPCx"
      },
      "source": [
        "lakukan import data customer.csv, transaction_clean.csv, product.csv"
      ]
    },
    {
      "cell_type": "code",
      "execution_count": null,
      "metadata": {
        "id": "hafG_LclNAk0"
      },
      "outputs": [],
      "source": [
        "# Membaca directory\n",
        "import os\n",
        "os.listdir(path_data)\n",
        "# Import Packages\n",
        "import pandas as pd\n",
        "from datetime import datetime as dt\n",
        "import seaborn as sns\n",
        "import matplotlib.pyplot as plt\n",
        "import numpy as np\n",
        "\n",
        "# Membaca dataset\n",
        "df_cust = pd.read_csv(path_data + 'customer_clean.csv')\n",
        "df_trx = pd.read_csv(path_data + 'transaction_clean.csv')\n",
        "df_prod = pd.read_csv(path_data + 'product_clean.csv')"
      ]
    },
    {
      "cell_type": "markdown",
      "metadata": {
        "id": "VygAkBnGN5AS"
      },
      "source": [
        "# Case 1"
      ]
    },
    {
      "cell_type": "markdown",
      "metadata": {
        "id": "9dbRRWgjN7DW"
      },
      "source": [
        "Home store mana yang banyak mendapatkan customer?"
      ]
    },
    {
      "cell_type": "code",
      "execution_count": null,
      "metadata": {
        "id": "9WJaI0AO6cOK"
      },
      "outputs": [],
      "source": []
    },
    {
      "cell_type": "code",
      "execution_count": null,
      "metadata": {
        "id": "BUc9zhtP6dAV"
      },
      "outputs": [],
      "source": []
    },
    {
      "cell_type": "code",
      "execution_count": null,
      "metadata": {
        "id": "VwJ2sCBx6dQs"
      },
      "outputs": [],
      "source": []
    },
    {
      "cell_type": "markdown",
      "metadata": {
        "id": "iby2315d6dlF"
      },
      "source": [
        "Buatkan Visualisasi nya menggunakan bar plot atau chart yang lain. Kemudian jelaskan insight apa yang bisa di dapatkan!\n",
        "\n"
      ]
    },
    {
      "cell_type": "code",
      "execution_count": null,
      "metadata": {
        "id": "YV4puUTm6toI"
      },
      "outputs": [],
      "source": []
    },
    {
      "cell_type": "code",
      "execution_count": null,
      "metadata": {
        "id": "MzuFn_FB6uC3"
      },
      "outputs": [],
      "source": []
    },
    {
      "cell_type": "markdown",
      "metadata": {
        "id": "YJo6cl4cN-vM"
      },
      "source": [
        "# Case 2"
      ]
    },
    {
      "cell_type": "markdown",
      "metadata": {
        "id": "mBxOTbqWN-1l"
      },
      "source": [
        "Distribusi umur dari masing-masing home store menggunakan boxplot  "
      ]
    },
    {
      "cell_type": "code",
      "execution_count": null,
      "metadata": {
        "id": "VXMrb92y6xRm"
      },
      "outputs": [],
      "source": []
    },
    {
      "cell_type": "code",
      "execution_count": null,
      "metadata": {
        "id": "w-UBrUiL6xoN"
      },
      "outputs": [],
      "source": []
    },
    {
      "cell_type": "markdown",
      "metadata": {
        "id": "wL90GaskOCwW"
      },
      "source": [
        "# Case 3"
      ]
    },
    {
      "cell_type": "markdown",
      "metadata": {
        "id": "kx2DcdW2OCzr"
      },
      "source": [
        "Gambarkan Grafik Histogram pada semua fitur yang ada pada dataset df_trx atau transaction_clean.csv"
      ]
    },
    {
      "cell_type": "code",
      "execution_count": null,
      "metadata": {
        "id": "mkk3HaNt7IeU"
      },
      "outputs": [],
      "source": []
    },
    {
      "cell_type": "code",
      "execution_count": null,
      "metadata": {
        "id": "QAg5E4qu7JmA"
      },
      "outputs": [],
      "source": []
    },
    {
      "cell_type": "code",
      "execution_count": null,
      "metadata": {
        "id": "iGN2Ncz97J3Y"
      },
      "outputs": [],
      "source": []
    },
    {
      "cell_type": "markdown",
      "metadata": {
        "id": "qZYhq0w-UnHi"
      },
      "source": []
    }
  ],
  "metadata": {
    "colab": {
      "provenance": []
    },
    "kernelspec": {
      "display_name": "Python 3",
      "name": "python3"
    },
    "language_info": {
      "codemirror_mode": {
        "name": "ipython",
        "version": 3
      },
      "file_extension": ".py",
      "mimetype": "text/x-python",
      "name": "python",
      "nbconvert_exporter": "python",
      "pygments_lexer": "ipython3",
      "version": "3.13.5"
    }
  },
  "nbformat": 4,
  "nbformat_minor": 0
}
