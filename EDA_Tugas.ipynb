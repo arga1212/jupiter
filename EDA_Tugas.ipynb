{
 "cells": [
  {
   "cell_type": "markdown",
   "id": "cb5baa43",
   "metadata": {},
   "source": [
    "# Tugas Praktek EDA (Exploratory Data Analysis)\n",
    "Dataset: `order.csv`"
   ]
  },
  {
   "cell_type": "code",
   "execution_count": null,
   "id": "68cfa338",
   "metadata": {},
   "outputs": [],
   "source": [
    "\n",
    "import pandas as pd\n",
    "import matplotlib.pyplot as plt\n",
    "\n",
    "# Untuk menampilkan grafik di notebook\n",
    "%matplotlib inline\n"
   ]
  },
  {
   "cell_type": "markdown",
   "id": "98b43dcc",
   "metadata": {},
   "source": [
    "## Tugas Praktek 1\n",
    "Import dataset `order.csv` ke dalam dataframe `order_df`. "
   ]
  },
  {
   "cell_type": "code",
   "execution_count": null,
   "id": "9bff5f4a",
   "metadata": {},
   "outputs": [],
   "source": [
    "\n",
    "# Membaca dataset\n",
    "order_df = pd.read_csv(\"order.csv\")\n",
    "\n",
    "# Tampilkan 5 baris pertama untuk memastikan data terbaca\n",
    "order_df.head()\n"
   ]
  },
  {
   "cell_type": "markdown",
   "id": "ef301000",
   "metadata": {},
   "source": [
    "## Tugas Praktek 2\n",
    "Cek dimensi data menggunakan `.shape`. "
   ]
  },
  {
   "cell_type": "code",
   "execution_count": null,
   "id": "3177dac2",
   "metadata": {},
   "outputs": [],
   "source": [
    "order_df.shape"
   ]
  },
  {
   "cell_type": "markdown",
   "id": "ec30ccf6",
   "metadata": {},
   "source": [
    "## Tugas Praktek 3\n",
    "Tampilkan 10 baris pertama menggunakan `.head(10)`. "
   ]
  },
  {
   "cell_type": "code",
   "execution_count": null,
   "id": "43f81922",
   "metadata": {},
   "outputs": [],
   "source": [
    "order_df.head(10)"
   ]
  },
  {
   "cell_type": "markdown",
   "id": "9d6cc3e6",
   "metadata": {},
   "source": [
    "## Tugas Praktek 4a\n",
    "Statistik deskriptif untuk kolom `quantity`, `price`, `freight_value`, dan `product_weight_gram`. "
   ]
  },
  {
   "cell_type": "code",
   "execution_count": null,
   "id": "75124b9c",
   "metadata": {},
   "outputs": [],
   "source": [
    "\n",
    "order_df[['quantity','price','freight_value','product_weight_gram']].describe()\n"
   ]
  },
  {
   "cell_type": "markdown",
   "id": "00ba4bb2",
   "metadata": {},
   "source": [
    "## Tugas Praktek 4b\n",
    "Hitung median dari kolom `price`. "
   ]
  },
  {
   "cell_type": "code",
   "execution_count": null,
   "id": "16df71af",
   "metadata": {},
   "outputs": [],
   "source": [
    "order_df['price'].median()"
   ]
  },
  {
   "cell_type": "markdown",
   "id": "e566b8cb",
   "metadata": {},
   "source": [
    "## Tugas Praktek 5\n",
    "Buat histogram distribusi `price`. "
   ]
  },
  {
   "cell_type": "code",
   "execution_count": null,
   "id": "d7a91601",
   "metadata": {},
   "outputs": [],
   "source": [
    "\n",
    "plt.figure(figsize=(8,5))\n",
    "plt.hist(order_df['price'], bins=30, edgecolor='black')\n",
    "plt.title('Distribusi Harga (Price)')\n",
    "plt.xlabel('Price')\n",
    "plt.ylabel('Frekuensi')\n",
    "plt.show()\n"
   ]
  },
  {
   "cell_type": "markdown",
   "id": "c862ad5f",
   "metadata": {},
   "source": [
    "## Tugas Praktek 6\n",
    "Hitung standar deviasi dan varians dari kolom `product_weight_gram`. "
   ]
  },
  {
   "cell_type": "code",
   "execution_count": null,
   "id": "f68dfecf",
   "metadata": {},
   "outputs": [],
   "source": [
    "\n",
    "std_weight = order_df['product_weight_gram'].std()\n",
    "var_weight = order_df['product_weight_gram'].var()\n",
    "\n",
    "std_weight, var_weight\n"
   ]
  }
 ],
 "metadata": {},
 "nbformat": 4,
 "nbformat_minor": 5
}
